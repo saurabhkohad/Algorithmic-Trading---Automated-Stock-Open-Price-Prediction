{
 "cells": [
  {
   "cell_type": "code",
   "execution_count": 1,
   "metadata": {},
   "outputs": [],
   "source": [
    "import numpy as np\n",
    "import pandas as pd\n",
    "import matplotlib.pyplot as plt\n",
    "import seaborn as sns"
   ]
  },
  {
   "cell_type": "code",
   "execution_count": 2,
   "metadata": {},
   "outputs": [],
   "source": [
    "data = pd.read_excel('Axis Bank Data.xlsx')\n"
   ]
  },
  {
   "cell_type": "code",
   "execution_count": 3,
   "metadata": {},
   "outputs": [
    {
     "data": {
      "text/html": [
       "<div>\n",
       "<style scoped>\n",
       "    .dataframe tbody tr th:only-of-type {\n",
       "        vertical-align: middle;\n",
       "    }\n",
       "\n",
       "    .dataframe tbody tr th {\n",
       "        vertical-align: top;\n",
       "    }\n",
       "\n",
       "    .dataframe thead th {\n",
       "        text-align: right;\n",
       "    }\n",
       "</style>\n",
       "<table border=\"1\" class=\"dataframe\">\n",
       "  <thead>\n",
       "    <tr style=\"text-align: right;\">\n",
       "      <th></th>\n",
       "      <th>Date</th>\n",
       "      <th>Open Price (Current Day)</th>\n",
       "      <th>Close Price (Current Day)</th>\n",
       "      <th>Volume (Current Day)</th>\n",
       "      <th>Nifty Index (Current Day)</th>\n",
       "    </tr>\n",
       "  </thead>\n",
       "  <tbody>\n",
       "    <tr>\n",
       "      <th>0</th>\n",
       "      <td>2018-05-10</td>\n",
       "      <td>548.500000</td>\n",
       "      <td>547.650024</td>\n",
       "      <td>11415139.0</td>\n",
       "      <td>10779.650391</td>\n",
       "    </tr>\n",
       "    <tr>\n",
       "      <th>1</th>\n",
       "      <td>2018-05-11</td>\n",
       "      <td>548.599976</td>\n",
       "      <td>553.299988</td>\n",
       "      <td>4960854.0</td>\n",
       "      <td>10741.950195</td>\n",
       "    </tr>\n",
       "    <tr>\n",
       "      <th>2</th>\n",
       "      <td>2018-05-14</td>\n",
       "      <td>551.200012</td>\n",
       "      <td>551.900024</td>\n",
       "      <td>4999526.0</td>\n",
       "      <td>10815.150391</td>\n",
       "    </tr>\n",
       "    <tr>\n",
       "      <th>3</th>\n",
       "      <td>2018-05-15</td>\n",
       "      <td>548.000000</td>\n",
       "      <td>549.700012</td>\n",
       "      <td>6752759.0</td>\n",
       "      <td>10812.599609</td>\n",
       "    </tr>\n",
       "    <tr>\n",
       "      <th>4</th>\n",
       "      <td>2018-05-16</td>\n",
       "      <td>545.000000</td>\n",
       "      <td>550.000000</td>\n",
       "      <td>9929095.0</td>\n",
       "      <td>10751.950195</td>\n",
       "    </tr>\n",
       "  </tbody>\n",
       "</table>\n",
       "</div>"
      ],
      "text/plain": [
       "        Date  Open Price (Current Day)  Close Price (Current Day)  \\\n",
       "0 2018-05-10                548.500000                 547.650024   \n",
       "1 2018-05-11                548.599976                 553.299988   \n",
       "2 2018-05-14                551.200012                 551.900024   \n",
       "3 2018-05-15                548.000000                 549.700012   \n",
       "4 2018-05-16                545.000000                 550.000000   \n",
       "\n",
       "   Volume (Current Day)  Nifty Index (Current Day)  \n",
       "0            11415139.0               10779.650391  \n",
       "1             4960854.0               10741.950195  \n",
       "2             4999526.0               10815.150391  \n",
       "3             6752759.0               10812.599609  \n",
       "4             9929095.0               10751.950195  "
      ]
     },
     "execution_count": 3,
     "metadata": {},
     "output_type": "execute_result"
    }
   ],
   "source": [
    "data.head()"
   ]
  },
  {
   "cell_type": "code",
   "execution_count": 4,
   "metadata": {},
   "outputs": [],
   "source": [
    "data[\"Close Price (Previous Day)\"] = data[\"Close Price (Current Day)\"].shift(periods=1)"
   ]
  },
  {
   "cell_type": "code",
   "execution_count": 5,
   "metadata": {},
   "outputs": [],
   "source": [
    "data[\"Volume (Previous Day)\"] = data[\"Volume (Current Day)\"].shift(periods=1)"
   ]
  },
  {
   "cell_type": "code",
   "execution_count": 6,
   "metadata": {},
   "outputs": [
    {
     "data": {
      "text/html": [
       "<div>\n",
       "<style scoped>\n",
       "    .dataframe tbody tr th:only-of-type {\n",
       "        vertical-align: middle;\n",
       "    }\n",
       "\n",
       "    .dataframe tbody tr th {\n",
       "        vertical-align: top;\n",
       "    }\n",
       "\n",
       "    .dataframe thead th {\n",
       "        text-align: right;\n",
       "    }\n",
       "</style>\n",
       "<table border=\"1\" class=\"dataframe\">\n",
       "  <thead>\n",
       "    <tr style=\"text-align: right;\">\n",
       "      <th></th>\n",
       "      <th>Date</th>\n",
       "      <th>Open Price (Current Day)</th>\n",
       "      <th>Close Price (Current Day)</th>\n",
       "      <th>Volume (Current Day)</th>\n",
       "      <th>Nifty Index (Current Day)</th>\n",
       "      <th>Close Price (Previous Day)</th>\n",
       "      <th>Volume (Previous Day)</th>\n",
       "    </tr>\n",
       "  </thead>\n",
       "  <tbody>\n",
       "    <tr>\n",
       "      <th>0</th>\n",
       "      <td>2018-05-10</td>\n",
       "      <td>548.500000</td>\n",
       "      <td>547.650024</td>\n",
       "      <td>11415139.0</td>\n",
       "      <td>10779.650391</td>\n",
       "      <td>NaN</td>\n",
       "      <td>NaN</td>\n",
       "    </tr>\n",
       "    <tr>\n",
       "      <th>1</th>\n",
       "      <td>2018-05-11</td>\n",
       "      <td>548.599976</td>\n",
       "      <td>553.299988</td>\n",
       "      <td>4960854.0</td>\n",
       "      <td>10741.950195</td>\n",
       "      <td>547.650024</td>\n",
       "      <td>11415139.0</td>\n",
       "    </tr>\n",
       "    <tr>\n",
       "      <th>2</th>\n",
       "      <td>2018-05-14</td>\n",
       "      <td>551.200012</td>\n",
       "      <td>551.900024</td>\n",
       "      <td>4999526.0</td>\n",
       "      <td>10815.150391</td>\n",
       "      <td>553.299988</td>\n",
       "      <td>4960854.0</td>\n",
       "    </tr>\n",
       "    <tr>\n",
       "      <th>3</th>\n",
       "      <td>2018-05-15</td>\n",
       "      <td>548.000000</td>\n",
       "      <td>549.700012</td>\n",
       "      <td>6752759.0</td>\n",
       "      <td>10812.599609</td>\n",
       "      <td>551.900024</td>\n",
       "      <td>4999526.0</td>\n",
       "    </tr>\n",
       "    <tr>\n",
       "      <th>4</th>\n",
       "      <td>2018-05-16</td>\n",
       "      <td>545.000000</td>\n",
       "      <td>550.000000</td>\n",
       "      <td>9929095.0</td>\n",
       "      <td>10751.950195</td>\n",
       "      <td>549.700012</td>\n",
       "      <td>6752759.0</td>\n",
       "    </tr>\n",
       "  </tbody>\n",
       "</table>\n",
       "</div>"
      ],
      "text/plain": [
       "        Date  Open Price (Current Day)  Close Price (Current Day)  \\\n",
       "0 2018-05-10                548.500000                 547.650024   \n",
       "1 2018-05-11                548.599976                 553.299988   \n",
       "2 2018-05-14                551.200012                 551.900024   \n",
       "3 2018-05-15                548.000000                 549.700012   \n",
       "4 2018-05-16                545.000000                 550.000000   \n",
       "\n",
       "   Volume (Current Day)  Nifty Index (Current Day)  \\\n",
       "0            11415139.0               10779.650391   \n",
       "1             4960854.0               10741.950195   \n",
       "2             4999526.0               10815.150391   \n",
       "3             6752759.0               10812.599609   \n",
       "4             9929095.0               10751.950195   \n",
       "\n",
       "   Close Price (Previous Day)  Volume (Previous Day)  \n",
       "0                         NaN                    NaN  \n",
       "1                  547.650024             11415139.0  \n",
       "2                  553.299988              4960854.0  \n",
       "3                  551.900024              4999526.0  \n",
       "4                  549.700012              6752759.0  "
      ]
     },
     "execution_count": 6,
     "metadata": {},
     "output_type": "execute_result"
    }
   ],
   "source": [
    "data.head()"
   ]
  },
  {
   "cell_type": "code",
   "execution_count": 7,
   "metadata": {},
   "outputs": [
    {
     "data": {
      "text/html": [
       "<div>\n",
       "<style scoped>\n",
       "    .dataframe tbody tr th:only-of-type {\n",
       "        vertical-align: middle;\n",
       "    }\n",
       "\n",
       "    .dataframe tbody tr th {\n",
       "        vertical-align: top;\n",
       "    }\n",
       "\n",
       "    .dataframe thead th {\n",
       "        text-align: right;\n",
       "    }\n",
       "</style>\n",
       "<table border=\"1\" class=\"dataframe\">\n",
       "  <thead>\n",
       "    <tr style=\"text-align: right;\">\n",
       "      <th></th>\n",
       "      <th>Date</th>\n",
       "      <th>Open Price (Current Day)</th>\n",
       "      <th>Nifty Index (Current Day)</th>\n",
       "      <th>Close Price (Previous Day)</th>\n",
       "      <th>Volume (Previous Day)</th>\n",
       "    </tr>\n",
       "  </thead>\n",
       "  <tbody>\n",
       "    <tr>\n",
       "      <th>0</th>\n",
       "      <td>2018-05-10</td>\n",
       "      <td>548.500000</td>\n",
       "      <td>10779.650391</td>\n",
       "      <td>NaN</td>\n",
       "      <td>NaN</td>\n",
       "    </tr>\n",
       "    <tr>\n",
       "      <th>1</th>\n",
       "      <td>2018-05-11</td>\n",
       "      <td>548.599976</td>\n",
       "      <td>10741.950195</td>\n",
       "      <td>547.650024</td>\n",
       "      <td>11415139.0</td>\n",
       "    </tr>\n",
       "    <tr>\n",
       "      <th>2</th>\n",
       "      <td>2018-05-14</td>\n",
       "      <td>551.200012</td>\n",
       "      <td>10815.150391</td>\n",
       "      <td>553.299988</td>\n",
       "      <td>4960854.0</td>\n",
       "    </tr>\n",
       "    <tr>\n",
       "      <th>3</th>\n",
       "      <td>2018-05-15</td>\n",
       "      <td>548.000000</td>\n",
       "      <td>10812.599609</td>\n",
       "      <td>551.900024</td>\n",
       "      <td>4999526.0</td>\n",
       "    </tr>\n",
       "    <tr>\n",
       "      <th>4</th>\n",
       "      <td>2018-05-16</td>\n",
       "      <td>545.000000</td>\n",
       "      <td>10751.950195</td>\n",
       "      <td>549.700012</td>\n",
       "      <td>6752759.0</td>\n",
       "    </tr>\n",
       "  </tbody>\n",
       "</table>\n",
       "</div>"
      ],
      "text/plain": [
       "        Date  Open Price (Current Day)  Nifty Index (Current Day)  \\\n",
       "0 2018-05-10                548.500000               10779.650391   \n",
       "1 2018-05-11                548.599976               10741.950195   \n",
       "2 2018-05-14                551.200012               10815.150391   \n",
       "3 2018-05-15                548.000000               10812.599609   \n",
       "4 2018-05-16                545.000000               10751.950195   \n",
       "\n",
       "   Close Price (Previous Day)  Volume (Previous Day)  \n",
       "0                         NaN                    NaN  \n",
       "1                  547.650024             11415139.0  \n",
       "2                  553.299988              4960854.0  \n",
       "3                  551.900024              4999526.0  \n",
       "4                  549.700012              6752759.0  "
      ]
     },
     "execution_count": 7,
     "metadata": {},
     "output_type": "execute_result"
    }
   ],
   "source": [
    "data = data.drop(columns=[\"Volume (Current Day)\",\"Close Price (Current Day)\"])\n",
    "data.head()"
   ]
  },
  {
   "cell_type": "code",
   "execution_count": 8,
   "metadata": {},
   "outputs": [
    {
     "data": {
      "text/html": [
       "<div>\n",
       "<style scoped>\n",
       "    .dataframe tbody tr th:only-of-type {\n",
       "        vertical-align: middle;\n",
       "    }\n",
       "\n",
       "    .dataframe tbody tr th {\n",
       "        vertical-align: top;\n",
       "    }\n",
       "\n",
       "    .dataframe thead th {\n",
       "        text-align: right;\n",
       "    }\n",
       "</style>\n",
       "<table border=\"1\" class=\"dataframe\">\n",
       "  <thead>\n",
       "    <tr style=\"text-align: right;\">\n",
       "      <th></th>\n",
       "      <th>Date</th>\n",
       "      <th>Open Price (Current Day)</th>\n",
       "      <th>Nifty Index (Current Day)</th>\n",
       "      <th>Close Price (Previous Day)</th>\n",
       "      <th>Volume (Previous Day)</th>\n",
       "    </tr>\n",
       "  </thead>\n",
       "  <tbody>\n",
       "    <tr>\n",
       "      <th>733</th>\n",
       "      <td>2021-05-03</td>\n",
       "      <td>706.0</td>\n",
       "      <td>14481.049805</td>\n",
       "      <td>714.900024</td>\n",
       "      <td>23011654.0</td>\n",
       "    </tr>\n",
       "    <tr>\n",
       "      <th>734</th>\n",
       "      <td>2021-05-04</td>\n",
       "      <td>704.0</td>\n",
       "      <td>14687.250000</td>\n",
       "      <td>702.750000</td>\n",
       "      <td>13752878.0</td>\n",
       "    </tr>\n",
       "    <tr>\n",
       "      <th>735</th>\n",
       "      <td>2021-05-05</td>\n",
       "      <td>709.0</td>\n",
       "      <td>14604.150391</td>\n",
       "      <td>700.349976</td>\n",
       "      <td>11980155.0</td>\n",
       "    </tr>\n",
       "    <tr>\n",
       "      <th>736</th>\n",
       "      <td>2021-05-06</td>\n",
       "      <td>718.0</td>\n",
       "      <td>14668.349609</td>\n",
       "      <td>717.200012</td>\n",
       "      <td>11155033.0</td>\n",
       "    </tr>\n",
       "    <tr>\n",
       "      <th>737</th>\n",
       "      <td>2021-05-07</td>\n",
       "      <td>721.0</td>\n",
       "      <td>14816.849609</td>\n",
       "      <td>715.750000</td>\n",
       "      <td>9484934.0</td>\n",
       "    </tr>\n",
       "  </tbody>\n",
       "</table>\n",
       "</div>"
      ],
      "text/plain": [
       "          Date  Open Price (Current Day)  Nifty Index (Current Day)  \\\n",
       "733 2021-05-03                     706.0               14481.049805   \n",
       "734 2021-05-04                     704.0               14687.250000   \n",
       "735 2021-05-05                     709.0               14604.150391   \n",
       "736 2021-05-06                     718.0               14668.349609   \n",
       "737 2021-05-07                     721.0               14816.849609   \n",
       "\n",
       "     Close Price (Previous Day)  Volume (Previous Day)  \n",
       "733                  714.900024             23011654.0  \n",
       "734                  702.750000             13752878.0  \n",
       "735                  700.349976             11980155.0  \n",
       "736                  717.200012             11155033.0  \n",
       "737                  715.750000              9484934.0  "
      ]
     },
     "execution_count": 8,
     "metadata": {},
     "output_type": "execute_result"
    }
   ],
   "source": [
    "data.tail()"
   ]
  },
  {
   "cell_type": "markdown",
   "metadata": {},
   "source": [
    "# Data Exploration"
   ]
  },
  {
   "cell_type": "code",
   "execution_count": 9,
   "metadata": {},
   "outputs": [
    {
     "name": "stdout",
     "output_type": "stream",
     "text": [
      "<class 'pandas.core.frame.DataFrame'>\n",
      "RangeIndex: 738 entries, 0 to 737\n",
      "Data columns (total 5 columns):\n",
      "Date                          738 non-null datetime64[ns]\n",
      "Open Price (Current Day)      736 non-null float64\n",
      "Nifty Index (Current Day)     734 non-null float64\n",
      "Close Price (Previous Day)    735 non-null float64\n",
      "Volume (Previous Day)         735 non-null float64\n",
      "dtypes: datetime64[ns](1), float64(4)\n",
      "memory usage: 28.9 KB\n"
     ]
    }
   ],
   "source": [
    "data.info()"
   ]
  },
  {
   "cell_type": "code",
   "execution_count": 10,
   "metadata": {},
   "outputs": [
    {
     "data": {
      "text/plain": [
       "(738, 5)"
      ]
     },
     "execution_count": 10,
     "metadata": {},
     "output_type": "execute_result"
    }
   ],
   "source": [
    "data.shape"
   ]
  },
  {
   "cell_type": "code",
   "execution_count": 11,
   "metadata": {},
   "outputs": [
    {
     "data": {
      "text/plain": [
       "Date                          0\n",
       "Open Price (Current Day)      2\n",
       "Nifty Index (Current Day)     4\n",
       "Close Price (Previous Day)    3\n",
       "Volume (Previous Day)         3\n",
       "dtype: int64"
      ]
     },
     "execution_count": 11,
     "metadata": {},
     "output_type": "execute_result"
    }
   ],
   "source": [
    "data.isnull().sum()"
   ]
  },
  {
   "cell_type": "markdown",
   "metadata": {},
   "source": [
    "\n",
    "# Treating Null Values"
   ]
  },
  {
   "cell_type": "code",
   "execution_count": 12,
   "metadata": {},
   "outputs": [],
   "source": [
    "data.fillna(method = \"ffill\", inplace = True)"
   ]
  },
  {
   "cell_type": "code",
   "execution_count": 13,
   "metadata": {},
   "outputs": [
    {
     "data": {
      "text/plain": [
       "Date                          0\n",
       "Open Price (Current Day)      0\n",
       "Nifty Index (Current Day)     0\n",
       "Close Price (Previous Day)    1\n",
       "Volume (Previous Day)         1\n",
       "dtype: int64"
      ]
     },
     "execution_count": 13,
     "metadata": {},
     "output_type": "execute_result"
    }
   ],
   "source": [
    "data.isnull().sum()"
   ]
  },
  {
   "cell_type": "code",
   "execution_count": 14,
   "metadata": {},
   "outputs": [
    {
     "data": {
      "text/html": [
       "<div>\n",
       "<style scoped>\n",
       "    .dataframe tbody tr th:only-of-type {\n",
       "        vertical-align: middle;\n",
       "    }\n",
       "\n",
       "    .dataframe tbody tr th {\n",
       "        vertical-align: top;\n",
       "    }\n",
       "\n",
       "    .dataframe thead th {\n",
       "        text-align: right;\n",
       "    }\n",
       "</style>\n",
       "<table border=\"1\" class=\"dataframe\">\n",
       "  <thead>\n",
       "    <tr style=\"text-align: right;\">\n",
       "      <th></th>\n",
       "      <th>Date</th>\n",
       "      <th>Open Price (Current Day)</th>\n",
       "      <th>Nifty Index (Current Day)</th>\n",
       "      <th>Close Price (Previous Day)</th>\n",
       "      <th>Volume (Previous Day)</th>\n",
       "    </tr>\n",
       "  </thead>\n",
       "  <tbody>\n",
       "    <tr>\n",
       "      <th>0</th>\n",
       "      <td>2018-05-10</td>\n",
       "      <td>548.500000</td>\n",
       "      <td>10779.650391</td>\n",
       "      <td>NaN</td>\n",
       "      <td>NaN</td>\n",
       "    </tr>\n",
       "    <tr>\n",
       "      <th>1</th>\n",
       "      <td>2018-05-11</td>\n",
       "      <td>548.599976</td>\n",
       "      <td>10741.950195</td>\n",
       "      <td>547.650024</td>\n",
       "      <td>11415139.0</td>\n",
       "    </tr>\n",
       "    <tr>\n",
       "      <th>2</th>\n",
       "      <td>2018-05-14</td>\n",
       "      <td>551.200012</td>\n",
       "      <td>10815.150391</td>\n",
       "      <td>553.299988</td>\n",
       "      <td>4960854.0</td>\n",
       "    </tr>\n",
       "    <tr>\n",
       "      <th>3</th>\n",
       "      <td>2018-05-15</td>\n",
       "      <td>548.000000</td>\n",
       "      <td>10812.599609</td>\n",
       "      <td>551.900024</td>\n",
       "      <td>4999526.0</td>\n",
       "    </tr>\n",
       "    <tr>\n",
       "      <th>4</th>\n",
       "      <td>2018-05-16</td>\n",
       "      <td>545.000000</td>\n",
       "      <td>10751.950195</td>\n",
       "      <td>549.700012</td>\n",
       "      <td>6752759.0</td>\n",
       "    </tr>\n",
       "  </tbody>\n",
       "</table>\n",
       "</div>"
      ],
      "text/plain": [
       "        Date  Open Price (Current Day)  Nifty Index (Current Day)  \\\n",
       "0 2018-05-10                548.500000               10779.650391   \n",
       "1 2018-05-11                548.599976               10741.950195   \n",
       "2 2018-05-14                551.200012               10815.150391   \n",
       "3 2018-05-15                548.000000               10812.599609   \n",
       "4 2018-05-16                545.000000               10751.950195   \n",
       "\n",
       "   Close Price (Previous Day)  Volume (Previous Day)  \n",
       "0                         NaN                    NaN  \n",
       "1                  547.650024             11415139.0  \n",
       "2                  553.299988              4960854.0  \n",
       "3                  551.900024              4999526.0  \n",
       "4                  549.700012              6752759.0  "
      ]
     },
     "execution_count": 14,
     "metadata": {},
     "output_type": "execute_result"
    }
   ],
   "source": [
    "data.head()"
   ]
  },
  {
   "cell_type": "code",
   "execution_count": 15,
   "metadata": {},
   "outputs": [],
   "source": [
    "data.fillna(method=\"bfill\", inplace=True)"
   ]
  },
  {
   "cell_type": "code",
   "execution_count": 16,
   "metadata": {},
   "outputs": [
    {
     "data": {
      "text/plain": [
       "Date                          0\n",
       "Open Price (Current Day)      0\n",
       "Nifty Index (Current Day)     0\n",
       "Close Price (Previous Day)    0\n",
       "Volume (Previous Day)         0\n",
       "dtype: int64"
      ]
     },
     "execution_count": 16,
     "metadata": {},
     "output_type": "execute_result"
    }
   ],
   "source": [
    "data.isnull().sum()"
   ]
  },
  {
   "cell_type": "code",
   "execution_count": 17,
   "metadata": {},
   "outputs": [
    {
     "data": {
      "text/html": [
       "<div>\n",
       "<style scoped>\n",
       "    .dataframe tbody tr th:only-of-type {\n",
       "        vertical-align: middle;\n",
       "    }\n",
       "\n",
       "    .dataframe tbody tr th {\n",
       "        vertical-align: top;\n",
       "    }\n",
       "\n",
       "    .dataframe thead th {\n",
       "        text-align: right;\n",
       "    }\n",
       "</style>\n",
       "<table border=\"1\" class=\"dataframe\">\n",
       "  <thead>\n",
       "    <tr style=\"text-align: right;\">\n",
       "      <th></th>\n",
       "      <th>Date</th>\n",
       "      <th>Open Price (Current Day)</th>\n",
       "      <th>Nifty Index (Current Day)</th>\n",
       "      <th>Close Price (Previous Day)</th>\n",
       "      <th>Volume (Previous Day)</th>\n",
       "    </tr>\n",
       "  </thead>\n",
       "  <tbody>\n",
       "    <tr>\n",
       "      <th>0</th>\n",
       "      <td>2018-05-10</td>\n",
       "      <td>548.500000</td>\n",
       "      <td>10779.650391</td>\n",
       "      <td>547.650024</td>\n",
       "      <td>11415139.0</td>\n",
       "    </tr>\n",
       "    <tr>\n",
       "      <th>1</th>\n",
       "      <td>2018-05-11</td>\n",
       "      <td>548.599976</td>\n",
       "      <td>10741.950195</td>\n",
       "      <td>547.650024</td>\n",
       "      <td>11415139.0</td>\n",
       "    </tr>\n",
       "    <tr>\n",
       "      <th>2</th>\n",
       "      <td>2018-05-14</td>\n",
       "      <td>551.200012</td>\n",
       "      <td>10815.150391</td>\n",
       "      <td>553.299988</td>\n",
       "      <td>4960854.0</td>\n",
       "    </tr>\n",
       "    <tr>\n",
       "      <th>3</th>\n",
       "      <td>2018-05-15</td>\n",
       "      <td>548.000000</td>\n",
       "      <td>10812.599609</td>\n",
       "      <td>551.900024</td>\n",
       "      <td>4999526.0</td>\n",
       "    </tr>\n",
       "    <tr>\n",
       "      <th>4</th>\n",
       "      <td>2018-05-16</td>\n",
       "      <td>545.000000</td>\n",
       "      <td>10751.950195</td>\n",
       "      <td>549.700012</td>\n",
       "      <td>6752759.0</td>\n",
       "    </tr>\n",
       "  </tbody>\n",
       "</table>\n",
       "</div>"
      ],
      "text/plain": [
       "        Date  Open Price (Current Day)  Nifty Index (Current Day)  \\\n",
       "0 2018-05-10                548.500000               10779.650391   \n",
       "1 2018-05-11                548.599976               10741.950195   \n",
       "2 2018-05-14                551.200012               10815.150391   \n",
       "3 2018-05-15                548.000000               10812.599609   \n",
       "4 2018-05-16                545.000000               10751.950195   \n",
       "\n",
       "   Close Price (Previous Day)  Volume (Previous Day)  \n",
       "0                  547.650024             11415139.0  \n",
       "1                  547.650024             11415139.0  \n",
       "2                  553.299988              4960854.0  \n",
       "3                  551.900024              4999526.0  \n",
       "4                  549.700012              6752759.0  "
      ]
     },
     "execution_count": 17,
     "metadata": {},
     "output_type": "execute_result"
    }
   ],
   "source": [
    "data.head()"
   ]
  },
  {
   "cell_type": "code",
   "execution_count": 18,
   "metadata": {},
   "outputs": [
    {
     "data": {
      "text/html": [
       "<div>\n",
       "<style scoped>\n",
       "    .dataframe tbody tr th:only-of-type {\n",
       "        vertical-align: middle;\n",
       "    }\n",
       "\n",
       "    .dataframe tbody tr th {\n",
       "        vertical-align: top;\n",
       "    }\n",
       "\n",
       "    .dataframe thead th {\n",
       "        text-align: right;\n",
       "    }\n",
       "</style>\n",
       "<table border=\"1\" class=\"dataframe\">\n",
       "  <thead>\n",
       "    <tr style=\"text-align: right;\">\n",
       "      <th></th>\n",
       "      <th>Open Price (Current Day)</th>\n",
       "      <th>Nifty Index (Current Day)</th>\n",
       "      <th>Close Price (Previous Day)</th>\n",
       "      <th>Volume (Previous Day)</th>\n",
       "    </tr>\n",
       "  </thead>\n",
       "  <tbody>\n",
       "    <tr>\n",
       "      <th>count</th>\n",
       "      <td>738.000000</td>\n",
       "      <td>738.000000</td>\n",
       "      <td>738.000000</td>\n",
       "      <td>7.380000e+02</td>\n",
       "    </tr>\n",
       "    <tr>\n",
       "      <th>mean</th>\n",
       "      <td>621.025611</td>\n",
       "      <td>11605.968577</td>\n",
       "      <td>620.143090</td>\n",
       "      <td>1.684932e+07</td>\n",
       "    </tr>\n",
       "    <tr>\n",
       "      <th>std</th>\n",
       "      <td>122.850057</td>\n",
       "      <td>1440.753631</td>\n",
       "      <td>122.974438</td>\n",
       "      <td>1.355056e+07</td>\n",
       "    </tr>\n",
       "    <tr>\n",
       "      <th>min</th>\n",
       "      <td>293.500000</td>\n",
       "      <td>7735.149902</td>\n",
       "      <td>303.149994</td>\n",
       "      <td>1.528117e+06</td>\n",
       "    </tr>\n",
       "    <tr>\n",
       "      <th>25%</th>\n",
       "      <td>528.800018</td>\n",
       "      <td>10807.362549</td>\n",
       "      <td>531.025024</td>\n",
       "      <td>7.687604e+06</td>\n",
       "    </tr>\n",
       "    <tr>\n",
       "      <th>50%</th>\n",
       "      <td>644.800018</td>\n",
       "      <td>11382.250000</td>\n",
       "      <td>645.625000</td>\n",
       "      <td>1.203882e+07</td>\n",
       "    </tr>\n",
       "    <tr>\n",
       "      <th>75%</th>\n",
       "      <td>728.587509</td>\n",
       "      <td>12003.512451</td>\n",
       "      <td>727.975006</td>\n",
       "      <td>2.127965e+07</td>\n",
       "    </tr>\n",
       "    <tr>\n",
       "      <th>max</th>\n",
       "      <td>824.000000</td>\n",
       "      <td>15371.450195</td>\n",
       "      <td>822.799988</td>\n",
       "      <td>9.618623e+07</td>\n",
       "    </tr>\n",
       "  </tbody>\n",
       "</table>\n",
       "</div>"
      ],
      "text/plain": [
       "       Open Price (Current Day)  Nifty Index (Current Day)  \\\n",
       "count                738.000000                 738.000000   \n",
       "mean                 621.025611               11605.968577   \n",
       "std                  122.850057                1440.753631   \n",
       "min                  293.500000                7735.149902   \n",
       "25%                  528.800018               10807.362549   \n",
       "50%                  644.800018               11382.250000   \n",
       "75%                  728.587509               12003.512451   \n",
       "max                  824.000000               15371.450195   \n",
       "\n",
       "       Close Price (Previous Day)  Volume (Previous Day)  \n",
       "count                  738.000000           7.380000e+02  \n",
       "mean                   620.143090           1.684932e+07  \n",
       "std                    122.974438           1.355056e+07  \n",
       "min                    303.149994           1.528117e+06  \n",
       "25%                    531.025024           7.687604e+06  \n",
       "50%                    645.625000           1.203882e+07  \n",
       "75%                    727.975006           2.127965e+07  \n",
       "max                    822.799988           9.618623e+07  "
      ]
     },
     "execution_count": 18,
     "metadata": {},
     "output_type": "execute_result"
    }
   ],
   "source": [
    "data.describe()"
   ]
  },
  {
   "cell_type": "markdown",
   "metadata": {},
   "source": [
    " **After detecting and treating null values, we came across with negligible, hence we dropped it.**\n",
    "\n",
    "## Detecting Outliers"
   ]
  },
  {
   "cell_type": "code",
   "execution_count": 19,
   "metadata": {},
   "outputs": [
    {
     "data": {
      "text/plain": [
       "<matplotlib.axes._subplots.AxesSubplot at 0xa68f0b8>"
      ]
     },
     "execution_count": 19,
     "metadata": {},
     "output_type": "execute_result"
    },
    {
     "data": {
      "image/png": "[encoded data removed]",
      "text/plain": [
       "<Figure size 432x288 with 1 Axes>"
      ]
     },
     "metadata": {
      "needs_background": "light"
     },
     "output_type": "display_data"
    }
   ],
   "source": [
    "sns.boxplot(x = \"Close Price (Previous Day)\", data = data)"
   ]
  },
  {
   "cell_type": "code",
   "execution_count": 20,
   "metadata": {},
   "outputs": [
    {
     "data": {
      "text/plain": [
       "<matplotlib.axes._subplots.AxesSubplot at 0xb95a048>"
      ]
     },
     "execution_count": 20,
     "metadata": {},
     "output_type": "execute_result"
    },
    {
     "data": {
      "image/png": "[encoded data removed]",
      "text/plain": [
       "<Figure size 432x288 with 1 Axes>"
      ]
     },
     "metadata": {
      "needs_background": "light"
     },
     "output_type": "display_data"
    }
   ],
   "source": [
    "sns.boxplot(x = \"Volume (Previous Day)\", data = data)"
   ]
  },
  {
   "cell_type": "markdown",
   "metadata": {},
   "source": [
    "Using IQR - Interquartile Range to treat outliers.\n",
    "\n",
    "IQR is the range between the first and the third quartiles namely Q1 and Q3: IQR = Q3 – Q1. The data points which fall below Q1 – 1.5 IQR or above Q3 + 1.5 IQR are outliers."
   ]
  },
  {
   "cell_type": "code",
   "execution_count": 21,
   "metadata": {},
   "outputs": [
    {
     "name": "stdout",
     "output_type": "stream",
     "text": [
      "13592044.75\n"
     ]
    }
   ],
   "source": [
    "Q1 = data[\"Volume (Previous Day)\"].quantile(0.25)\n",
    "Q3 = data[\"Volume (Previous Day)\"].quantile(0.75)\n",
    "IQR = Q3 - Q1\n",
    "print(IQR)"
   ]
  },
  {
   "cell_type": "code",
   "execution_count": 22,
   "metadata": {},
   "outputs": [
    {
     "name": "stdout",
     "output_type": "stream",
     "text": [
      "Value below -12700463.125 are outliers\n",
      "Value above 41667715.875 are outliers\n"
     ]
    }
   ],
   "source": [
    "low_lim = Q1 - 1.5 * IQR\n",
    "up_lim = Q3 + 1.5 * IQR\n",
    "print(\"Value below {} are outliers\" .format(low_lim))\n",
    "print(\"Value above {} are outliers\" .format(up_lim))"
   ]
  },
  {
   "cell_type": "code",
   "execution_count": 23,
   "metadata": {
    "scrolled": false
   },
   "outputs": [
    {
     "data": {
      "text/html": [
       "<div>\n",
       "<style scoped>\n",
       "    .dataframe tbody tr th:only-of-type {\n",
       "        vertical-align: middle;\n",
       "    }\n",
       "\n",
       "    .dataframe tbody tr th {\n",
       "        vertical-align: top;\n",
       "    }\n",
       "\n",
       "    .dataframe thead th {\n",
       "        text-align: right;\n",
       "    }\n",
       "</style>\n",
       "<table border=\"1\" class=\"dataframe\">\n",
       "  <thead>\n",
       "    <tr style=\"text-align: right;\">\n",
       "      <th></th>\n",
       "      <th>Date</th>\n",
       "      <th>Open Price (Current Day)</th>\n",
       "      <th>Nifty Index (Current Day)</th>\n",
       "      <th>Close Price (Previous Day)</th>\n",
       "      <th>Volume (Previous Day)</th>\n",
       "    </tr>\n",
       "  </thead>\n",
       "  <tbody>\n",
       "    <tr>\n",
       "      <th>181</th>\n",
       "      <td>2019-01-31</td>\n",
       "      <td>697.250000</td>\n",
       "      <td>10690.549805</td>\n",
       "      <td>690.950012</td>\n",
       "      <td>46912230.0</td>\n",
       "    </tr>\n",
       "    <tr>\n",
       "      <th>302</th>\n",
       "      <td>2019-08-01</td>\n",
       "      <td>673.950012</td>\n",
       "      <td>11060.200195</td>\n",
       "      <td>674.099976</td>\n",
       "      <td>55836793.0</td>\n",
       "    </tr>\n",
       "    <tr>\n",
       "      <th>342</th>\n",
       "      <td>2019-10-03</td>\n",
       "      <td>675.000000</td>\n",
       "      <td>11322.250000</td>\n",
       "      <td>679.150024</td>\n",
       "      <td>49442205.0</td>\n",
       "    </tr>\n",
       "    <tr>\n",
       "      <th>460</th>\n",
       "      <td>2020-03-25</td>\n",
       "      <td>293.500000</td>\n",
       "      <td>7735.149902</td>\n",
       "      <td>303.149994</td>\n",
       "      <td>50681510.0</td>\n",
       "    </tr>\n",
       "    <tr>\n",
       "      <th>461</th>\n",
       "      <td>2020-03-26</td>\n",
       "      <td>335.950012</td>\n",
       "      <td>8451.000000</td>\n",
       "      <td>326.799988</td>\n",
       "      <td>51993973.0</td>\n",
       "    </tr>\n",
       "  </tbody>\n",
       "</table>\n",
       "</div>"
      ],
      "text/plain": [
       "          Date  Open Price (Current Day)  Nifty Index (Current Day)  \\\n",
       "181 2019-01-31                697.250000               10690.549805   \n",
       "302 2019-08-01                673.950012               11060.200195   \n",
       "342 2019-10-03                675.000000               11322.250000   \n",
       "460 2020-03-25                293.500000                7735.149902   \n",
       "461 2020-03-26                335.950012                8451.000000   \n",
       "\n",
       "     Close Price (Previous Day)  Volume (Previous Day)  \n",
       "181                  690.950012             46912230.0  \n",
       "302                  674.099976             55836793.0  \n",
       "342                  679.150024             49442205.0  \n",
       "460                  303.149994             50681510.0  \n",
       "461                  326.799988             51993973.0  "
      ]
     },
     "execution_count": 23,
     "metadata": {},
     "output_type": "execute_result"
    }
   ],
   "source": [
    "outliers_u = data[(data[\"Volume (Previous Day)\"] > up_lim)]\n",
    "outliers_u.head()"
   ]
  },
  {
   "cell_type": "code",
   "execution_count": 24,
   "metadata": {},
   "outputs": [
    {
     "data": {
      "text/plain": [
       "(51, 5)"
      ]
     },
     "execution_count": 24,
     "metadata": {},
     "output_type": "execute_result"
    }
   ],
   "source": [
    "outliers_u.shape"
   ]
  },
  {
   "cell_type": "code",
   "execution_count": 25,
   "metadata": {},
   "outputs": [
    {
     "data": {
      "text/html": [
       "<div>\n",
       "<style scoped>\n",
       "    .dataframe tbody tr th:only-of-type {\n",
       "        vertical-align: middle;\n",
       "    }\n",
       "\n",
       "    .dataframe tbody tr th {\n",
       "        vertical-align: top;\n",
       "    }\n",
       "\n",
       "    .dataframe thead th {\n",
       "        text-align: right;\n",
       "    }\n",
       "</style>\n",
       "<table border=\"1\" class=\"dataframe\">\n",
       "  <thead>\n",
       "    <tr style=\"text-align: right;\">\n",
       "      <th></th>\n",
       "      <th>Date</th>\n",
       "      <th>Open Price (Current Day)</th>\n",
       "      <th>Nifty Index (Current Day)</th>\n",
       "      <th>Close Price (Previous Day)</th>\n",
       "      <th>Volume (Previous Day)</th>\n",
       "    </tr>\n",
       "  </thead>\n",
       "  <tbody>\n",
       "  </tbody>\n",
       "</table>\n",
       "</div>"
      ],
      "text/plain": [
       "Empty DataFrame\n",
       "Columns: [Date, Open Price (Current Day), Nifty Index (Current Day), Close Price (Previous Day), Volume (Previous Day)]\n",
       "Index: []"
      ]
     },
     "execution_count": 25,
     "metadata": {},
     "output_type": "execute_result"
    }
   ],
   "source": [
    "outliers_l = data[(data[\"Volume (Previous Day)\"] < low_lim)]\n",
    "outliers_l.head()"
   ]
  },
  {
   "cell_type": "code",
   "execution_count": 26,
   "metadata": {},
   "outputs": [
    {
     "data": {
      "text/plain": [
       "(0, 5)"
      ]
     },
     "execution_count": 26,
     "metadata": {},
     "output_type": "execute_result"
    }
   ],
   "source": [
    "outliers_l.shape"
   ]
  },
  {
   "cell_type": "code",
   "execution_count": 27,
   "metadata": {},
   "outputs": [
    {
     "data": {
      "text/html": [
       "<div>\n",
       "<style scoped>\n",
       "    .dataframe tbody tr th:only-of-type {\n",
       "        vertical-align: middle;\n",
       "    }\n",
       "\n",
       "    .dataframe tbody tr th {\n",
       "        vertical-align: top;\n",
       "    }\n",
       "\n",
       "    .dataframe thead th {\n",
       "        text-align: right;\n",
       "    }\n",
       "</style>\n",
       "<table border=\"1\" class=\"dataframe\">\n",
       "  <thead>\n",
       "    <tr style=\"text-align: right;\">\n",
       "      <th></th>\n",
       "      <th>Date</th>\n",
       "      <th>Open Price (Current Day)</th>\n",
       "      <th>Nifty Index (Current Day)</th>\n",
       "      <th>Close Price (Previous Day)</th>\n",
       "      <th>Volume (Previous Day)</th>\n",
       "    </tr>\n",
       "  </thead>\n",
       "  <tbody>\n",
       "    <tr>\n",
       "      <th>0</th>\n",
       "      <td>2018-05-10</td>\n",
       "      <td>548.500000</td>\n",
       "      <td>10779.650391</td>\n",
       "      <td>547.650024</td>\n",
       "      <td>11415139.0</td>\n",
       "    </tr>\n",
       "    <tr>\n",
       "      <th>1</th>\n",
       "      <td>2018-05-11</td>\n",
       "      <td>548.599976</td>\n",
       "      <td>10741.950195</td>\n",
       "      <td>547.650024</td>\n",
       "      <td>11415139.0</td>\n",
       "    </tr>\n",
       "    <tr>\n",
       "      <th>2</th>\n",
       "      <td>2018-05-14</td>\n",
       "      <td>551.200012</td>\n",
       "      <td>10815.150391</td>\n",
       "      <td>553.299988</td>\n",
       "      <td>4960854.0</td>\n",
       "    </tr>\n",
       "    <tr>\n",
       "      <th>3</th>\n",
       "      <td>2018-05-15</td>\n",
       "      <td>548.000000</td>\n",
       "      <td>10812.599609</td>\n",
       "      <td>551.900024</td>\n",
       "      <td>4999526.0</td>\n",
       "    </tr>\n",
       "    <tr>\n",
       "      <th>4</th>\n",
       "      <td>2018-05-16</td>\n",
       "      <td>545.000000</td>\n",
       "      <td>10751.950195</td>\n",
       "      <td>549.700012</td>\n",
       "      <td>6752759.0</td>\n",
       "    </tr>\n",
       "  </tbody>\n",
       "</table>\n",
       "</div>"
      ],
      "text/plain": [
       "        Date  Open Price (Current Day)  Nifty Index (Current Day)  \\\n",
       "0 2018-05-10                548.500000               10779.650391   \n",
       "1 2018-05-11                548.599976               10741.950195   \n",
       "2 2018-05-14                551.200012               10815.150391   \n",
       "3 2018-05-15                548.000000               10812.599609   \n",
       "4 2018-05-16                545.000000               10751.950195   \n",
       "\n",
       "   Close Price (Previous Day)  Volume (Previous Day)  \n",
       "0                  547.650024             11415139.0  \n",
       "1                  547.650024             11415139.0  \n",
       "2                  553.299988              4960854.0  \n",
       "3                  551.900024              4999526.0  \n",
       "4                  549.700012              6752759.0  "
      ]
     },
     "execution_count": 27,
     "metadata": {},
     "output_type": "execute_result"
    }
   ],
   "source": [
    "data = data.drop(outliers_u.index)\n",
    "data.head()"
   ]
  },
  {
   "cell_type": "code",
   "execution_count": 28,
   "metadata": {},
   "outputs": [
    {
     "data": {
      "text/plain": [
       "(687, 5)"
      ]
     },
     "execution_count": 28,
     "metadata": {},
     "output_type": "execute_result"
    }
   ],
   "source": [
    "data.shape"
   ]
  },
  {
   "cell_type": "code",
   "execution_count": 29,
   "metadata": {},
   "outputs": [
    {
     "data": {
      "text/plain": [
       "<matplotlib.axes._subplots.AxesSubplot at 0xb9da2e8>"
      ]
     },
     "execution_count": 29,
     "metadata": {},
     "output_type": "execute_result"
    },
    {
     "data": {
      "image/png": "[encoded data removed]",
      "text/plain": [
       "<Figure size 432x288 with 1 Axes>"
      ]
     },
     "metadata": {
      "needs_background": "light"
     },
     "output_type": "display_data"
    }
   ],
   "source": [
    "sns.boxplot(x = \"Volume (Previous Day)\", data = data)"
   ]
  },
  {
   "cell_type": "code",
   "execution_count": 30,
   "metadata": {},
   "outputs": [
    {
     "data": {
      "text/plain": [
       "<matplotlib.axes._subplots.AxesSubplot at 0xba22780>"
      ]
     },
     "execution_count": 30,
     "metadata": {},
     "output_type": "execute_result"
    },
    {
     "data": {
      "image/png": "[encoded data removed]",
      "text/plain": [
       "<Figure size 432x288 with 1 Axes>"
      ]
     },
     "metadata": {
      "needs_background": "light"
     },
     "output_type": "display_data"
    }
   ],
   "source": [
    "sns.boxplot(x = \"Nifty Index (Current Day)\", data = data)"
   ]
  },
  {
   "cell_type": "code",
   "execution_count": 31,
   "metadata": {},
   "outputs": [
    {
     "name": "stdout",
     "output_type": "stream",
     "text": [
      "1183.224609500001\n"
     ]
    }
   ],
   "source": [
    "Q1 = data[\"Nifty Index (Current Day)\"].quantile(0.25)\n",
    "Q3 = data[\"Nifty Index (Current Day)\"].quantile(0.75)\n",
    "IQR = Q3 - Q1\n",
    "print(IQR)"
   ]
  },
  {
   "cell_type": "code",
   "execution_count": 32,
   "metadata": {},
   "outputs": [
    {
     "name": "stdout",
     "output_type": "stream",
     "text": [
      "Value below 9085.513183249997 are outliers\n",
      "Value above 13818.411621250001 are outliers\n"
     ]
    }
   ],
   "source": [
    "low_lim1 = Q1 - 1.5 * IQR\n",
    "up_lim1 = Q3 + 1.5 * IQR\n",
    "print(\"Value below {} are outliers\" .format(low_lim1))\n",
    "print(\"Value above {} are outliers\" .format(up_lim1))"
   ]
  },
  {
   "cell_type": "code",
   "execution_count": 33,
   "metadata": {},
   "outputs": [
    {
     "data": {
      "text/html": [
       "<div>\n",
       "<style scoped>\n",
       "    .dataframe tbody tr th:only-of-type {\n",
       "        vertical-align: middle;\n",
       "    }\n",
       "\n",
       "    .dataframe tbody tr th {\n",
       "        vertical-align: top;\n",
       "    }\n",
       "\n",
       "    .dataframe thead th {\n",
       "        text-align: right;\n",
       "    }\n",
       "</style>\n",
       "<table border=\"1\" class=\"dataframe\">\n",
       "  <thead>\n",
       "    <tr style=\"text-align: right;\">\n",
       "      <th></th>\n",
       "      <th>Date</th>\n",
       "      <th>Open Price (Current Day)</th>\n",
       "      <th>Nifty Index (Current Day)</th>\n",
       "      <th>Close Price (Previous Day)</th>\n",
       "      <th>Volume (Previous Day)</th>\n",
       "    </tr>\n",
       "  </thead>\n",
       "  <tbody>\n",
       "    <tr>\n",
       "      <th>650</th>\n",
       "      <td>2020-12-29</td>\n",
       "      <td>620.700012</td>\n",
       "      <td>13910.349609</td>\n",
       "      <td>617.650024</td>\n",
       "      <td>8444506.0</td>\n",
       "    </tr>\n",
       "    <tr>\n",
       "      <th>651</th>\n",
       "      <td>2020-12-30</td>\n",
       "      <td>632.250000</td>\n",
       "      <td>13980.900391</td>\n",
       "      <td>630.200012</td>\n",
       "      <td>13765454.0</td>\n",
       "    </tr>\n",
       "    <tr>\n",
       "      <th>652</th>\n",
       "      <td>2020-12-31</td>\n",
       "      <td>622.400024</td>\n",
       "      <td>13970.000000</td>\n",
       "      <td>625.099976</td>\n",
       "      <td>10262221.0</td>\n",
       "    </tr>\n",
       "    <tr>\n",
       "      <th>653</th>\n",
       "      <td>2021-01-01</td>\n",
       "      <td>620.250000</td>\n",
       "      <td>13970.000000</td>\n",
       "      <td>620.450012</td>\n",
       "      <td>12306502.0</td>\n",
       "    </tr>\n",
       "    <tr>\n",
       "      <th>654</th>\n",
       "      <td>2021-01-04</td>\n",
       "      <td>627.799988</td>\n",
       "      <td>14104.349609</td>\n",
       "      <td>623.799988</td>\n",
       "      <td>6047062.0</td>\n",
       "    </tr>\n",
       "  </tbody>\n",
       "</table>\n",
       "</div>"
      ],
      "text/plain": [
       "          Date  Open Price (Current Day)  Nifty Index (Current Day)  \\\n",
       "650 2020-12-29                620.700012               13910.349609   \n",
       "651 2020-12-30                632.250000               13980.900391   \n",
       "652 2020-12-31                622.400024               13970.000000   \n",
       "653 2021-01-01                620.250000               13970.000000   \n",
       "654 2021-01-04                627.799988               14104.349609   \n",
       "\n",
       "     Close Price (Previous Day)  Volume (Previous Day)  \n",
       "650                  617.650024              8444506.0  \n",
       "651                  630.200012             13765454.0  \n",
       "652                  625.099976             10262221.0  \n",
       "653                  620.450012             12306502.0  \n",
       "654                  623.799988              6047062.0  "
      ]
     },
     "execution_count": 33,
     "metadata": {},
     "output_type": "execute_result"
    }
   ],
   "source": [
    "outliers_up = data[(data[\"Nifty Index (Current Day)\"] > up_lim1)]\n",
    "outliers_up.head()"
   ]
  },
  {
   "cell_type": "code",
   "execution_count": 34,
   "metadata": {},
   "outputs": [
    {
     "data": {
      "text/html": [
       "<div>\n",
       "<style scoped>\n",
       "    .dataframe tbody tr th:only-of-type {\n",
       "        vertical-align: middle;\n",
       "    }\n",
       "\n",
       "    .dataframe tbody tr th {\n",
       "        vertical-align: top;\n",
       "    }\n",
       "\n",
       "    .dataframe thead th {\n",
       "        text-align: right;\n",
       "    }\n",
       "</style>\n",
       "<table border=\"1\" class=\"dataframe\">\n",
       "  <thead>\n",
       "    <tr style=\"text-align: right;\">\n",
       "      <th></th>\n",
       "      <th>Date</th>\n",
       "      <th>Open Price (Current Day)</th>\n",
       "      <th>Nifty Index (Current Day)</th>\n",
       "      <th>Close Price (Previous Day)</th>\n",
       "      <th>Volume (Previous Day)</th>\n",
       "    </tr>\n",
       "  </thead>\n",
       "  <tbody>\n",
       "    <tr>\n",
       "      <th>456</th>\n",
       "      <td>2020-03-19</td>\n",
       "      <td>441.049988</td>\n",
       "      <td>8063.299805</td>\n",
       "      <td>473.450012</td>\n",
       "      <td>36240904.0</td>\n",
       "    </tr>\n",
       "    <tr>\n",
       "      <th>457</th>\n",
       "      <td>2020-03-20</td>\n",
       "      <td>431.399994</td>\n",
       "      <td>8284.450195</td>\n",
       "      <td>428.250000</td>\n",
       "      <td>33243997.0</td>\n",
       "    </tr>\n",
       "    <tr>\n",
       "      <th>458</th>\n",
       "      <td>2020-03-23</td>\n",
       "      <td>385.350006</td>\n",
       "      <td>7945.700195</td>\n",
       "      <td>428.149994</td>\n",
       "      <td>30764236.0</td>\n",
       "    </tr>\n",
       "    <tr>\n",
       "      <th>459</th>\n",
       "      <td>2020-03-24</td>\n",
       "      <td>331.950012</td>\n",
       "      <td>7848.299805</td>\n",
       "      <td>308.649994</td>\n",
       "      <td>37622635.0</td>\n",
       "    </tr>\n",
       "    <tr>\n",
       "      <th>465</th>\n",
       "      <td>2020-04-01</td>\n",
       "      <td>376.250000</td>\n",
       "      <td>8584.099609</td>\n",
       "      <td>379.000000</td>\n",
       "      <td>34637148.0</td>\n",
       "    </tr>\n",
       "  </tbody>\n",
       "</table>\n",
       "</div>"
      ],
      "text/plain": [
       "          Date  Open Price (Current Day)  Nifty Index (Current Day)  \\\n",
       "456 2020-03-19                441.049988                8063.299805   \n",
       "457 2020-03-20                431.399994                8284.450195   \n",
       "458 2020-03-23                385.350006                7945.700195   \n",
       "459 2020-03-24                331.950012                7848.299805   \n",
       "465 2020-04-01                376.250000                8584.099609   \n",
       "\n",
       "     Close Price (Previous Day)  Volume (Previous Day)  \n",
       "456                  473.450012             36240904.0  \n",
       "457                  428.250000             33243997.0  \n",
       "458                  428.149994             30764236.0  \n",
       "459                  308.649994             37622635.0  \n",
       "465                  379.000000             34637148.0  "
      ]
     },
     "execution_count": 34,
     "metadata": {},
     "output_type": "execute_result"
    }
   ],
   "source": [
    "outliers_low = data[(data[\"Nifty Index (Current Day)\"] < low_lim1)]\n",
    "outliers_low.head()"
   ]
  },
  {
   "cell_type": "code",
   "execution_count": 35,
   "metadata": {},
   "outputs": [
    {
     "data": {
      "text/plain": [
       "(83, 5)"
      ]
     },
     "execution_count": 35,
     "metadata": {},
     "output_type": "execute_result"
    }
   ],
   "source": [
    "outliers_up.shape"
   ]
  },
  {
   "cell_type": "code",
   "execution_count": 36,
   "metadata": {},
   "outputs": [
    {
     "data": {
      "text/plain": [
       "(11, 5)"
      ]
     },
     "execution_count": 36,
     "metadata": {},
     "output_type": "execute_result"
    }
   ],
   "source": [
    "outliers_low.shape"
   ]
  },
  {
   "cell_type": "code",
   "execution_count": 37,
   "metadata": {},
   "outputs": [
    {
     "data": {
      "text/html": [
       "<div>\n",
       "<style scoped>\n",
       "    .dataframe tbody tr th:only-of-type {\n",
       "        vertical-align: middle;\n",
       "    }\n",
       "\n",
       "    .dataframe tbody tr th {\n",
       "        vertical-align: top;\n",
       "    }\n",
       "\n",
       "    .dataframe thead th {\n",
       "        text-align: right;\n",
       "    }\n",
       "</style>\n",
       "<table border=\"1\" class=\"dataframe\">\n",
       "  <thead>\n",
       "    <tr style=\"text-align: right;\">\n",
       "      <th></th>\n",
       "      <th>Date</th>\n",
       "      <th>Open Price (Current Day)</th>\n",
       "      <th>Nifty Index (Current Day)</th>\n",
       "      <th>Close Price (Previous Day)</th>\n",
       "      <th>Volume (Previous Day)</th>\n",
       "    </tr>\n",
       "  </thead>\n",
       "  <tbody>\n",
       "    <tr>\n",
       "      <th>0</th>\n",
       "      <td>2018-05-10</td>\n",
       "      <td>548.500000</td>\n",
       "      <td>10779.650391</td>\n",
       "      <td>547.650024</td>\n",
       "      <td>11415139.0</td>\n",
       "    </tr>\n",
       "    <tr>\n",
       "      <th>1</th>\n",
       "      <td>2018-05-11</td>\n",
       "      <td>548.599976</td>\n",
       "      <td>10741.950195</td>\n",
       "      <td>547.650024</td>\n",
       "      <td>11415139.0</td>\n",
       "    </tr>\n",
       "    <tr>\n",
       "      <th>2</th>\n",
       "      <td>2018-05-14</td>\n",
       "      <td>551.200012</td>\n",
       "      <td>10815.150391</td>\n",
       "      <td>553.299988</td>\n",
       "      <td>4960854.0</td>\n",
       "    </tr>\n",
       "    <tr>\n",
       "      <th>3</th>\n",
       "      <td>2018-05-15</td>\n",
       "      <td>548.000000</td>\n",
       "      <td>10812.599609</td>\n",
       "      <td>551.900024</td>\n",
       "      <td>4999526.0</td>\n",
       "    </tr>\n",
       "    <tr>\n",
       "      <th>4</th>\n",
       "      <td>2018-05-16</td>\n",
       "      <td>545.000000</td>\n",
       "      <td>10751.950195</td>\n",
       "      <td>549.700012</td>\n",
       "      <td>6752759.0</td>\n",
       "    </tr>\n",
       "  </tbody>\n",
       "</table>\n",
       "</div>"
      ],
      "text/plain": [
       "        Date  Open Price (Current Day)  Nifty Index (Current Day)  \\\n",
       "0 2018-05-10                548.500000               10779.650391   \n",
       "1 2018-05-11                548.599976               10741.950195   \n",
       "2 2018-05-14                551.200012               10815.150391   \n",
       "3 2018-05-15                548.000000               10812.599609   \n",
       "4 2018-05-16                545.000000               10751.950195   \n",
       "\n",
       "   Close Price (Previous Day)  Volume (Previous Day)  \n",
       "0                  547.650024             11415139.0  \n",
       "1                  547.650024             11415139.0  \n",
       "2                  553.299988              4960854.0  \n",
       "3                  551.900024              4999526.0  \n",
       "4                  549.700012              6752759.0  "
      ]
     },
     "execution_count": 37,
     "metadata": {},
     "output_type": "execute_result"
    }
   ],
   "source": [
    "data = data.drop(outliers_up.index)\n",
    "data.head()"
   ]
  },
  {
   "cell_type": "code",
   "execution_count": 38,
   "metadata": {},
   "outputs": [
    {
     "data": {
      "text/html": [
       "<div>\n",
       "<style scoped>\n",
       "    .dataframe tbody tr th:only-of-type {\n",
       "        vertical-align: middle;\n",
       "    }\n",
       "\n",
       "    .dataframe tbody tr th {\n",
       "        vertical-align: top;\n",
       "    }\n",
       "\n",
       "    .dataframe thead th {\n",
       "        text-align: right;\n",
       "    }\n",
       "</style>\n",
       "<table border=\"1\" class=\"dataframe\">\n",
       "  <thead>\n",
       "    <tr style=\"text-align: right;\">\n",
       "      <th></th>\n",
       "      <th>Date</th>\n",
       "      <th>Open Price (Current Day)</th>\n",
       "      <th>Nifty Index (Current Day)</th>\n",
       "      <th>Close Price (Previous Day)</th>\n",
       "      <th>Volume (Previous Day)</th>\n",
       "    </tr>\n",
       "  </thead>\n",
       "  <tbody>\n",
       "    <tr>\n",
       "      <th>0</th>\n",
       "      <td>2018-05-10</td>\n",
       "      <td>548.500000</td>\n",
       "      <td>10779.650391</td>\n",
       "      <td>547.650024</td>\n",
       "      <td>11415139.0</td>\n",
       "    </tr>\n",
       "    <tr>\n",
       "      <th>1</th>\n",
       "      <td>2018-05-11</td>\n",
       "      <td>548.599976</td>\n",
       "      <td>10741.950195</td>\n",
       "      <td>547.650024</td>\n",
       "      <td>11415139.0</td>\n",
       "    </tr>\n",
       "    <tr>\n",
       "      <th>2</th>\n",
       "      <td>2018-05-14</td>\n",
       "      <td>551.200012</td>\n",
       "      <td>10815.150391</td>\n",
       "      <td>553.299988</td>\n",
       "      <td>4960854.0</td>\n",
       "    </tr>\n",
       "    <tr>\n",
       "      <th>3</th>\n",
       "      <td>2018-05-15</td>\n",
       "      <td>548.000000</td>\n",
       "      <td>10812.599609</td>\n",
       "      <td>551.900024</td>\n",
       "      <td>4999526.0</td>\n",
       "    </tr>\n",
       "    <tr>\n",
       "      <th>4</th>\n",
       "      <td>2018-05-16</td>\n",
       "      <td>545.000000</td>\n",
       "      <td>10751.950195</td>\n",
       "      <td>549.700012</td>\n",
       "      <td>6752759.0</td>\n",
       "    </tr>\n",
       "  </tbody>\n",
       "</table>\n",
       "</div>"
      ],
      "text/plain": [
       "        Date  Open Price (Current Day)  Nifty Index (Current Day)  \\\n",
       "0 2018-05-10                548.500000               10779.650391   \n",
       "1 2018-05-11                548.599976               10741.950195   \n",
       "2 2018-05-14                551.200012               10815.150391   \n",
       "3 2018-05-15                548.000000               10812.599609   \n",
       "4 2018-05-16                545.000000               10751.950195   \n",
       "\n",
       "   Close Price (Previous Day)  Volume (Previous Day)  \n",
       "0                  547.650024             11415139.0  \n",
       "1                  547.650024             11415139.0  \n",
       "2                  553.299988              4960854.0  \n",
       "3                  551.900024              4999526.0  \n",
       "4                  549.700012              6752759.0  "
      ]
     },
     "execution_count": 38,
     "metadata": {},
     "output_type": "execute_result"
    }
   ],
   "source": [
    "data = data.drop(outliers_low.index)\n",
    "data.head()"
   ]
  },
  {
   "cell_type": "code",
   "execution_count": 39,
   "metadata": {},
   "outputs": [
    {
     "data": {
      "text/plain": [
       "(593, 5)"
      ]
     },
     "execution_count": 39,
     "metadata": {},
     "output_type": "execute_result"
    }
   ],
   "source": [
    "data.shape"
   ]
  },
  {
   "cell_type": "code",
   "execution_count": 40,
   "metadata": {
    "scrolled": true
   },
   "outputs": [
    {
     "data": {
      "text/plain": [
       "<matplotlib.axes._subplots.AxesSubplot at 0xbca81d0>"
      ]
     },
     "execution_count": 40,
     "metadata": {},
     "output_type": "execute_result"
    },
    {
     "data": {
      "image/png": "[encoded data removed]",
      "text/plain": [
       "<Figure size 432x288 with 1 Axes>"
      ]
     },
     "metadata": {
      "needs_background": "light"
     },
     "output_type": "display_data"
    }
   ],
   "source": [
    "sns.boxplot(x = \"Nifty Index (Current Day)\", data = data)"
   ]
  },
  {
   "cell_type": "markdown",
   "metadata": {},
   "source": [
    "\n",
    "\n",
    "## Relationship Analysis"
   ]
  },
  {
   "cell_type": "code",
   "execution_count": 41,
   "metadata": {},
   "outputs": [
    {
     "data": {
      "text/plain": [
       "<matplotlib.axes._subplots.AxesSubplot at 0xbef9668>"
      ]
     },
     "execution_count": 41,
     "metadata": {},
     "output_type": "execute_result"
    },
    {
     "data": {
      "image/png": "[encoded data removed]",
      "text/plain": [
       "<Figure size 432x288 with 2 Axes>"
      ]
     },
     "metadata": {
      "needs_background": "light"
     },
     "output_type": "display_data"
    }
   ],
   "source": [
    "sns.heatmap(data.corr(), annot = True, linewidths = 0.1)"
   ]
  },
  {
   "cell_type": "code",
   "execution_count": 42,
   "metadata": {},
   "outputs": [
    {
     "data": {
      "text/plain": [
       "<seaborn.axisgrid.PairGrid at 0xba11080>"
      ]
     },
     "execution_count": 42,
     "metadata": {},
     "output_type": "execute_result"
    },
    {
     "data": {
      "image/png": "[encoded data removed]",
      "text/plain": [
       "<Figure size 720x720 with 20 Axes>"
      ]
     },
     "metadata": {
      "needs_background": "light"
     },
     "output_type": "display_data"
    }
   ],
   "source": [
    "sns.pairplot(data)"
   ]
  },
  {
   "cell_type": "code",
   "execution_count": 43,
   "metadata": {},
   "outputs": [
    {
     "data": {
      "text/plain": [
       "<matplotlib.axes._subplots.AxesSubplot at 0xcf86c50>"
      ]
     },
     "execution_count": 43,
     "metadata": {},
     "output_type": "execute_result"
    },
    {
     "data": {
      "image/png": "[encoded data removed]",
      "text/plain": [
       "<Figure size 1440x360 with 1 Axes>"
      ]
     },
     "metadata": {
      "needs_background": "light"
     },
     "output_type": "display_data"
    }
   ],
   "source": [
    "data[\"Open Price (Current Day)\"].plot(figsize = (20,5))"
   ]
  },
  {
   "cell_type": "markdown",
   "metadata": {},
   "source": [
    "# Data Modeling and Evaluation"
   ]
  },
  {
   "cell_type": "code",
   "execution_count": 44,
   "metadata": {},
   "outputs": [],
   "source": [
    "X = data[[\"Close Price (Previous Day)\",\"Volume (Previous Day)\", \"Nifty Index (Current Day)\"]]\n",
    "Y = data[[\"Open Price (Current Day)\"]]"
   ]
  },
  {
   "cell_type": "code",
   "execution_count": 45,
   "metadata": {},
   "outputs": [],
   "source": [
    "from sklearn.model_selection import train_test_split\n",
    "X_train, X_test, Y_train, Y_test = train_test_split(X, Y, test_size = 0.4)"
   ]
  },
  {
   "cell_type": "code",
   "execution_count": 46,
   "metadata": {},
   "outputs": [
    {
     "ename": "ValueError",
     "evalue": "not enough values to unpack (expected 3, got 2)",
     "output_type": "error",
     "traceback": [
      "\u001b[1;31m---------------------------------------------------------------------------\u001b[0m",
      "\u001b[1;31mValueError\u001b[0m                                Traceback (most recent call last)",
      "\u001b[1;32m<ipython-input-46-68c8891cccdb>\u001b[0m in \u001b[0;36m<module>\u001b[1;34m\u001b[0m\n\u001b[0;32m      1\u001b[0m \u001b[1;33m\u001b[0m\u001b[0m\n\u001b[1;32m----> 2\u001b[1;33m \u001b[0mnsamples\u001b[0m\u001b[1;33m,\u001b[0m \u001b[0mnx\u001b[0m\u001b[1;33m,\u001b[0m \u001b[0mny\u001b[0m \u001b[1;33m=\u001b[0m \u001b[0mX_train\u001b[0m\u001b[1;33m.\u001b[0m\u001b[0mshape\u001b[0m\u001b[1;33m\u001b[0m\u001b[1;33m\u001b[0m\u001b[0m\n\u001b[0m\u001b[0;32m      3\u001b[0m \u001b[0mX_train\u001b[0m \u001b[1;33m=\u001b[0m \u001b[0mX_train\u001b[0m\u001b[1;33m.\u001b[0m\u001b[0mreshape\u001b[0m\u001b[1;33m(\u001b[0m\u001b[1;33m(\u001b[0m\u001b[0mnsamples\u001b[0m\u001b[1;33m,\u001b[0m\u001b[0mnx\u001b[0m\u001b[1;33m*\u001b[0m\u001b[0mny\u001b[0m\u001b[1;33m)\u001b[0m\u001b[1;33m)\u001b[0m\u001b[1;33m\u001b[0m\u001b[1;33m\u001b[0m\u001b[0m\n",
      "\u001b[1;31mValueError\u001b[0m: not enough values to unpack (expected 3, got 2)"
     ]
    }
   ],
   "source": [
    "\n",
    "nsamples, nx, ny = X_train.shape\n",
    "X_train = X_train.reshape((nsamples,nx*ny))"
   ]
  },
  {
   "cell_type": "code",
   "execution_count": null,
   "metadata": {},
   "outputs": [],
   "source": [
    "X_test.shape"
   ]
  },
  {
   "cell_type": "code",
   "execution_count": null,
   "metadata": {},
   "outputs": [],
   "source": [
    "Y_test.shape"
   ]
  },
  {
   "cell_type": "code",
   "execution_count": null,
   "metadata": {},
   "outputs": [],
   "source": [
    "from sklearn.linear_model import LinearRegression\n",
    "regressor = LinearRegression()"
   ]
  },
  {
   "cell_type": "code",
   "execution_count": null,
   "metadata": {},
   "outputs": [],
   "source": [
    "regressor.fit(X_train, Y_train)"
   ]
  },
  {
   "cell_type": "code",
   "execution_count": null,
   "metadata": {},
   "outputs": [],
   "source": [
    "print(regressor)"
   ]
  },
  {
   "cell_type": "code",
   "execution_count": null,
   "metadata": {},
   "outputs": [],
   "source": [
    "predictions = regressor.predict(X_test)"
   ]
  },
  {
   "cell_type": "code",
   "execution_count": null,
   "metadata": {},
   "outputs": [],
   "source": [
    "\n",
    "print(predictions)"
   ]
  },
  {
   "cell_type": "code",
   "execution_count": null,
   "metadata": {},
   "outputs": [],
   "source": [
    "predictions = predictions.reshape(-1,1)"
   ]
  },
  {
   "cell_type": "code",
   "execution_count": null,
   "metadata": {},
   "outputs": [],
   "source": [
    "predictions.shape"
   ]
  },
  {
   "cell_type": "markdown",
   "metadata": {},
   "source": [
    "# **Now we have Predicted and actual value of \"Open Price (Current Day)\"**\n",
    "\n",
    "Predicted Value = \"predictions\"\n",
    "\n",
    "Actual value = \"Y_test\""
   ]
  },
  {
   "cell_type": "code",
   "execution_count": null,
   "metadata": {},
   "outputs": [],
   "source": [
    "plt.scatter(Y_test, predictions)"
   ]
  },
  {
   "cell_type": "code",
   "execution_count": null,
   "metadata": {},
   "outputs": [],
   "source": [
    "from sklearn import metrics"
   ]
  },
  {
   "cell_type": "code",
   "execution_count": null,
   "metadata": {},
   "outputs": [],
   "source": [
    "print(\"Mean Absolute Error: \", metrics.mean_absolute_error(Y_test, predictions))\n",
    "print(\"Mean Squared Error: \", metrics.mean_squared_error(Y_test, predictions))\n",
    "print(\"Root Mean Squared Error: \", np.sqrt(metrics.mean_squared_error(Y_test, predictions)))"
   ]
  },
  {
   "cell_type": "code",
   "execution_count": null,
   "metadata": {},
   "outputs": [],
   "source": [
    "from sklearn.metrics import r2_score\n",
    "r2 = r2_score(Y_test, predictions)\n",
    "r2"
   ]
  },
  {
   "cell_type": "code",
   "execution_count": null,
   "metadata": {},
   "outputs": [],
   "source": [
    "Tolerance = 1-r2\n",
    "Tolerance"
   ]
  },
  {
   "cell_type": "code",
   "execution_count": null,
   "metadata": {},
   "outputs": [],
   "source": [
    "from sklearn.externals import joblib\n",
    "joblib.dump(regressor, \"Model_Axis.pkl\")"
   ]
  },
  {
   "cell_type": "code",
   "execution_count": null,
   "metadata": {},
   "outputs": [],
   "source": [
    "model = joblib.load(\"Model_Axis.pkl\")\n",
    "\n",
    "print(model)"
   ]
  },
  {
   "cell_type": "code",
   "execution_count": null,
   "metadata": {},
   "outputs": [],
   "source": [
    "import pandas_datareader as pdr\n",
    "import datetime"
   ]
  },
  {
   "cell_type": "code",
   "execution_count": null,
   "metadata": {},
   "outputs": [],
   "source": [
    "start = datetime.datetime(2018,5,10)\n",
    "end = datetime.datetime(2021,5,7)"
   ]
  },
  {
   "cell_type": "code",
   "execution_count": null,
   "metadata": {},
   "outputs": [],
   "source": [
    "data_v = pdr.get_data_yahoo(\"AXISBANK\", start, end)\n",
    "data_v.head()"
   ]
  },
  {
   "cell_type": "code",
   "execution_count": null,
   "metadata": {},
   "outputs": [],
   "source": [
    "import numpy as np\n",
    "import pandas as pd\n",
    "import matplotlib.pyplot as plt\n",
    "import seaborn as sns\n",
    "\n",
    "data = pd.read_excel('ICICIBANK.xlsx')\n",
    "\n",
    "\n",
    "data[\"Close Price (Previous Day)\"] = data[\"Close\"].shift(periods=1)\n",
    "\n",
    "data[\"Volume (Previous Day)\"] = data[\"Volume\"].shift(periods=1)\n",
    "\n",
    "\n",
    "data = data.drop(columns=[\"Volume\",\"Close\"])\n",
    "\n",
    "\n",
    "# Treating Null Values\n",
    "\n",
    "data.fillna(method = \"ffill\", inplace = True)\n",
    "\n",
    "\n",
    "data.fillna(method=\"bfill\", inplace=True)\n",
    "\n",
    "\n",
    "print(data.head(2))\n",
    "#After detecting and treating null values, we came across with negligible, hence we dropped it.\n",
    "\n",
    "\n",
    "\n",
    "Q1 = data[\"Volume (Previous Day)\"].quantile(0.25)\n",
    "Q3 = data[\"Volume (Previous Day)\"].quantile(0.75)\n",
    "IQR = Q3 - Q1\n",
    "\n",
    "low_lim = Q1 - 1.5 * IQR\n",
    "up_lim = Q3 + 1.5 * IQR\n",
    "\n",
    "\n",
    "outliers_u = data[(data[\"Volume (Previous Day)\"] > up_lim)]\n",
    "\n",
    "\n",
    "outliers_l = data[(data[\"Volume (Previous Day)\"] < low_lim)]\n",
    "\n",
    "\n",
    "data = data.drop(outliers_u.index)\n",
    "\n",
    "\n",
    "\n",
    "Q1 = data[\"Nifty Index (Current Day)\"].quantile(0.25)\n",
    "Q3 = data[\"Nifty Index (Current Day)\"].quantile(0.75)\n",
    "IQR = Q3 - Q1\n",
    "\n",
    "\n",
    "low_lim1 = Q1 - 1.5 * IQR\n",
    "up_lim1 = Q3 + 1.5 * IQR\n",
    "\n",
    "\n",
    "outliers_up = data[(data[\"Nifty Index (Current Day)\"] > up_lim1)]\n",
    "\n",
    "outliers_low = data[(data[\"Nifty Index (Current Day)\"] < low_lim1)]\n",
    "\n",
    "\n",
    "\n",
    "\n",
    "data = data.drop(outliers_up.index)\n",
    "\n",
    "data = data.drop(outliers_low.index)\n",
    "\n",
    "\n",
    "# Data Modeling and Evaluation\n",
    "\n",
    "X = data[[\"Close Price (Previous Day)\",\"Volume (Previous Day)\", \"Nifty Index (Current Day)\"]]\n",
    "Y = data[[\"Open\"]]\n",
    "\n",
    "from sklearn.model_selection import train_test_split\n",
    "X_train, X_test, Y_train, Y_test = train_test_split(X, Y, test_size = 0.4)\n",
    "\n",
    "\n",
    "\n",
    "from sklearn.linear_model import LinearRegression\n",
    "regressor = LinearRegression()\n",
    "\n",
    "regressor.fit(X_train, Y_train)\n",
    "\n",
    "\n",
    "predictions = regressor.predict(X_test)\n",
    "\n",
    "print(predictions.shape)\n",
    "\n",
    "from sklearn import metrics\n",
    "\n",
    "print(\"Mean Absolute Error: \", metrics.mean_absolute_error(Y_test, predictions))\n",
    "print(\"Mean Squared Error: \", metrics.mean_squared_error(Y_test, predictions))\n",
    "print(\"Root Mean Squared Error: \", np.sqrt(metrics.mean_squared_error(Y_test, predictions)))\n",
    "\n",
    "from sklearn.metrics import r2_score\n",
    "r2 = r2_score(Y_test, predictions)\n",
    "print(\"r2 score: {}\".format(r2))\n",
    "\n",
    "Tolerance = 1-r2\n",
    "print(\"Tolerance: {}\".format(Tolerance))\n",
    "\n",
    "from sklearn.externals import joblib\n",
    "joblib.dump(regressor, \"Model_ICICI.pkl\")\n",
    "\n",
    "model = joblib.load(\"Model_ICICI.pkl\")\n",
    "\n",
    "print(model)"
   ]
  },
  {
   "cell_type": "code",
   "execution_count": null,
   "metadata": {},
   "outputs": [],
   "source": [
    "import numpy as np\n",
    "import pandas as pd\n",
    "import matplotlib.pyplot as plt\n",
    "import seaborn as sns\n",
    "\n",
    "data = pd.read_excel('TCS.xlsx')\n",
    "\n",
    "\n",
    "data[\"Close Price (Previous Day)\"] = data[\"Close\"].shift(periods=1)\n",
    "\n",
    "data[\"Volume (Previous Day)\"] = data[\"Volume\"].shift(periods=1)\n",
    "\n",
    "\n",
    "data = data.drop(columns=[\"Volume\",\"Close\"])\n",
    "\n",
    "\n",
    "# Treating Null Values\n",
    "\n",
    "data.fillna(method = \"ffill\", inplace = True)\n",
    "\n",
    "\n",
    "data.fillna(method=\"bfill\", inplace=True)\n",
    "\n",
    "print(data.head(2))\n",
    "\n",
    "#After detecting and treating null values, we came across with negligible, hence we dropped it.\n",
    "\n",
    "\n",
    "\n",
    "Q1 = data[\"Volume (Previous Day)\"].quantile(0.25)\n",
    "Q3 = data[\"Volume (Previous Day)\"].quantile(0.75)\n",
    "IQR = Q3 - Q1\n",
    "\n",
    "low_lim = Q1 - 1.5 * IQR\n",
    "up_lim = Q3 + 1.5 * IQR\n",
    "\n",
    "\n",
    "outliers_u = data[(data[\"Volume (Previous Day)\"] > up_lim)]\n",
    "\n",
    "\n",
    "outliers_l = data[(data[\"Volume (Previous Day)\"] < low_lim)]\n",
    "\n",
    "\n",
    "data = data.drop(outliers_u.index)\n",
    "\n",
    "\n",
    "\n",
    "Q1 = data[\"Nifty Index (Current Day)\"].quantile(0.25)\n",
    "Q3 = data[\"Nifty Index (Current Day)\"].quantile(0.75)\n",
    "IQR = Q3 - Q1\n",
    "\n",
    "\n",
    "low_lim1 = Q1 - 1.5 * IQR\n",
    "up_lim1 = Q3 + 1.5 * IQR\n",
    "\n",
    "\n",
    "outliers_up = data[(data[\"Nifty Index (Current Day)\"] > up_lim1)]\n",
    "\n",
    "outliers_low = data[(data[\"Nifty Index (Current Day)\"] < low_lim1)]\n",
    "\n",
    "\n",
    "\n",
    "\n",
    "data = data.drop(outliers_up.index)\n",
    "\n",
    "data = data.drop(outliers_low.index)\n",
    "\n",
    "\n",
    "# Data Modeling and Evaluation\n",
    "\n",
    "X = data[[\"Close Price (Previous Day)\",\"Volume (Previous Day)\", \"Nifty Index (Current Day)\"]]\n",
    "Y = data[[\"Open\"]]\n",
    "\n",
    "from sklearn.model_selection import train_test_split\n",
    "X_train, X_test, Y_train, Y_test = train_test_split(X, Y, test_size = 0.4)\n",
    "\n",
    "\n",
    "\n",
    "from sklearn.linear_model import LinearRegression\n",
    "regressor = LinearRegression()\n",
    "\n",
    "regressor.fit(X_train, Y_train)\n",
    "\n",
    "\n",
    "predictions = regressor.predict(X_test)\n",
    "\n",
    "print(predictions.shape)\n",
    "\n",
    "from sklearn import metrics\n",
    "\n",
    "print(\"Mean Absolute Error: \", metrics.mean_absolute_error(Y_test, predictions))\n",
    "print(\"Mean Squared Error: \", metrics.mean_squared_error(Y_test, predictions))\n",
    "print(\"Root Mean Squared Error: \", np.sqrt(metrics.mean_squared_error(Y_test, predictions)))\n",
    "\n",
    "from sklearn.metrics import r2_score\n",
    "r2 = r2_score(Y_test, predictions)\n",
    "print(\"r2 score: {}\".format(r2))\n",
    "\n",
    "Tolerance = 1-r2\n",
    "print(\"Tolerance: {}\".format(Tolerance))\n",
    "\n",
    "from sklearn.externals import joblib\n",
    "joblib.dump(regressor, \"Model_TCS.pkl\")\n",
    "\n",
    "model = joblib.load(\"Model_TCS.pkl\")\n",
    "\n",
    "print(model)"
   ]
  },
  {
   "cell_type": "code",
   "execution_count": null,
   "metadata": {},
   "outputs": [],
   "source": [
    "import numpy as np\n",
    "import pandas as pd\n",
    "import matplotlib.pyplot as plt\n",
    "import seaborn as sns\n",
    "\n",
    "data = pd.read_excel('RELIANCE.xlsx')\n",
    "\n",
    "\n",
    "data[\"Close Price (Previous Day)\"] = data[\"Close\"].shift(periods=1)\n",
    "\n",
    "data[\"Volume (Previous Day)\"] = data[\"Volume\"].shift(periods=1)\n",
    "\n",
    "\n",
    "data = data.drop(columns=[\"Volume\",\"Close\"])\n",
    "\n",
    "\n",
    "# Treating Null Values\n",
    "\n",
    "data.fillna(method = \"ffill\", inplace = True)\n",
    "\n",
    "\n",
    "data.fillna(method=\"bfill\", inplace=True)\n",
    "\n",
    "print(data.head(2))\n",
    "\n",
    "#After detecting and treating null values, we came across with negligible, hence we dropped it.\n",
    "\n",
    "\n",
    "\n",
    "Q1 = data[\"Volume (Previous Day)\"].quantile(0.25)\n",
    "Q3 = data[\"Volume (Previous Day)\"].quantile(0.75)\n",
    "IQR = Q3 - Q1\n",
    "\n",
    "low_lim = Q1 - 1.5 * IQR\n",
    "up_lim = Q3 + 1.5 * IQR\n",
    "\n",
    "\n",
    "outliers_u = data[(data[\"Volume (Previous Day)\"] > up_lim)]\n",
    "\n",
    "\n",
    "outliers_l = data[(data[\"Volume (Previous Day)\"] < low_lim)]\n",
    "\n",
    "\n",
    "data = data.drop(outliers_u.index)\n",
    "\n",
    "\n",
    "\n",
    "Q1 = data[\"Nifty Index (Current Day)\"].quantile(0.25)\n",
    "Q3 = data[\"Nifty Index (Current Day)\"].quantile(0.75)\n",
    "IQR = Q3 - Q1\n",
    "\n",
    "\n",
    "low_lim1 = Q1 - 1.5 * IQR\n",
    "up_lim1 = Q3 + 1.5 * IQR\n",
    "\n",
    "\n",
    "outliers_up = data[(data[\"Nifty Index (Current Day)\"] > up_lim1)]\n",
    "\n",
    "outliers_low = data[(data[\"Nifty Index (Current Day)\"] < low_lim1)]\n",
    "\n",
    "\n",
    "\n",
    "\n",
    "data = data.drop(outliers_up.index)\n",
    "\n",
    "data = data.drop(outliers_low.index)\n",
    "\n",
    "\n",
    "# Data Modeling and Evaluation\n",
    "\n",
    "X = data[[\"Close Price (Previous Day)\",\"Volume (Previous Day)\", \"Nifty Index (Current Day)\"]]\n",
    "Y = data[[\"Open\"]]\n",
    "\n",
    "from sklearn.model_selection import train_test_split\n",
    "X_train, X_test, Y_train, Y_test = train_test_split(X, Y, test_size = 0.4)\n",
    "\n",
    "\n",
    "\n",
    "from sklearn.linear_model import LinearRegression\n",
    "regressor = LinearRegression()\n",
    "\n",
    "regressor.fit(X_train, Y_train)\n",
    "\n",
    "\n",
    "predictions = regressor.predict(X_test)\n",
    "\n",
    "print(predictions.shape)\n",
    "\n",
    "from sklearn import metrics\n",
    "\n",
    "print(\"Mean Absolute Error: \", metrics.mean_absolute_error(Y_test, predictions))\n",
    "print(\"Mean Squared Error: \", metrics.mean_squared_error(Y_test, predictions))\n",
    "print(\"Root Mean Squared Error: \", np.sqrt(metrics.mean_squared_error(Y_test, predictions)))\n",
    "\n",
    "from sklearn.metrics import r2_score\n",
    "r2 = r2_score(Y_test, predictions)\n",
    "print(\"r2 score: {}\".format(r2))\n",
    "\n",
    "Tolerance = 1-r2\n",
    "print(\"Tolerance: {}\".format(Tolerance))\n",
    "\n",
    "from sklearn.externals import joblib\n",
    "joblib.dump(regressor, \"Model_RELIANCE.pkl\")\n",
    "\n",
    "model = joblib.load(\"Model_RELIANCE.pkl\")\n",
    "\n",
    "print(model)"
   ]
  },
  {
   "cell_type": "code",
   "execution_count": null,
   "metadata": {},
   "outputs": [],
   "source": [
    "import numpy as np\n",
    "import pandas as pd\n",
    "import matplotlib.pyplot as plt\n",
    "import seaborn as sns\n",
    "\n",
    "data = pd.read_excel('INFY.xlsx')\n",
    "\n",
    "\n",
    "data[\"Close Price (Previous Day)\"] = data[\"Close\"].shift(periods=1)\n",
    "\n",
    "data[\"Volume (Previous Day)\"] = data[\"Volume\"].shift(periods=1)\n",
    "\n",
    "\n",
    "data = data.drop(columns=[\"Volume\",\"Close\"])\n",
    "\n",
    "\n",
    "# Treating Null Values\n",
    "\n",
    "data.fillna(method = \"ffill\", inplace = True)\n",
    "\n",
    "\n",
    "data.fillna(method=\"bfill\", inplace=True)\n",
    "\n",
    "\n",
    "print(data.head(2))\n",
    "#After detecting and treating null values, we came across with negligible, hence we dropped it.\n",
    "\n",
    "\n",
    "\n",
    "Q1 = data[\"Volume (Previous Day)\"].quantile(0.25)\n",
    "Q3 = data[\"Volume (Previous Day)\"].quantile(0.75)\n",
    "IQR = Q3 - Q1\n",
    "\n",
    "low_lim = Q1 - 1.5 * IQR\n",
    "up_lim = Q3 + 1.5 * IQR\n",
    "\n",
    "\n",
    "outliers_u = data[(data[\"Volume (Previous Day)\"] > up_lim)]\n",
    "\n",
    "\n",
    "outliers_l = data[(data[\"Volume (Previous Day)\"] < low_lim)]\n",
    "\n",
    "\n",
    "data = data.drop(outliers_u.index)\n",
    "\n",
    "\n",
    "\n",
    "Q1 = data[\"Nifty Index (Current Day)\"].quantile(0.25)\n",
    "Q3 = data[\"Nifty Index (Current Day)\"].quantile(0.75)\n",
    "IQR = Q3 - Q1\n",
    "\n",
    "\n",
    "low_lim1 = Q1 - 1.5 * IQR\n",
    "up_lim1 = Q3 + 1.5 * IQR\n",
    "\n",
    "\n",
    "outliers_up = data[(data[\"Nifty Index (Current Day)\"] > up_lim1)]\n",
    "\n",
    "outliers_low = data[(data[\"Nifty Index (Current Day)\"] < low_lim1)]\n",
    "\n",
    "\n",
    "\n",
    "\n",
    "data = data.drop(outliers_up.index)\n",
    "\n",
    "data = data.drop(outliers_low.index)\n",
    "\n",
    "\n",
    "# Data Modeling and Evaluation\n",
    "\n",
    "X = data[[\"Close Price (Previous Day)\",\"Volume (Previous Day)\", \"Nifty Index (Current Day)\"]]\n",
    "Y = data[[\"Open\"]]\n",
    "\n",
    "from sklearn.model_selection import train_test_split\n",
    "X_train, X_test, Y_train, Y_test = train_test_split(X, Y, test_size = 0.4)\n",
    "\n",
    "\n",
    "\n",
    "from sklearn.linear_model import LinearRegression\n",
    "regressor = LinearRegression()\n",
    "\n",
    "regressor.fit(X_train, Y_train)\n",
    "\n",
    "\n",
    "predictions = regressor.predict(X_test)\n",
    "\n",
    "print(predictions.shape)\n",
    "\n",
    "from sklearn import metrics\n",
    "\n",
    "print(\"Mean Absolute Error: \", metrics.mean_absolute_error(Y_test, predictions))\n",
    "print(\"Mean Squared Error: \", metrics.mean_squared_error(Y_test, predictions))\n",
    "print(\"Root Mean Squared Error: \", np.sqrt(metrics.mean_squared_error(Y_test, predictions)))\n",
    "\n",
    "from sklearn.metrics import r2_score\n",
    "r2 = r2_score(Y_test, predictions)\n",
    "print(\"r2 score: {}\".format(r2))\n",
    "\n",
    "Tolerance = 1-r2\n",
    "print(\"Tolerance: {}\".format(Tolerance))\n",
    "\n",
    "from sklearn.externals import joblib\n",
    "joblib.dump(regressor, \"Model_INFY.pkl\")\n",
    "\n",
    "model = joblib.load(\"Model_INFY.pkl\")\n",
    "\n",
    "print(model)"
   ]
  },
  {
   "cell_type": "code",
   "execution_count": null,
   "metadata": {},
   "outputs": [],
   "source": []
  }
 ],
 "metadata": {
  "kernelspec": {
   "display_name": "Python 3",
   "language": "python",
   "name": "python3"
  },
  "language_info": {
   "codemirror_mode": {
    "name": "ipython",
    "version": 3
   },
   "file_extension": ".py",
   "mimetype": "text/x-python",
   "name": "python",
   "nbconvert_exporter": "python",
   "pygments_lexer": "ipython3",
   "version": "3.7.3"
  }
 },
 "nbformat": 4,
 "nbformat_minor": 2
}
